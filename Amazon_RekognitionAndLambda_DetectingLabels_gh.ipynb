{
 "cells": [
  {
   "cell_type": "code",
   "execution_count": 1,
   "id": "b6c20e94",
   "metadata": {},
   "outputs": [],
   "source": [
    "# Install once only - python official library from AWS\n",
    "# !pip install boto3"
   ]
  },
  {
   "cell_type": "markdown",
   "id": "b70c4c30",
   "metadata": {},
   "source": [
    "### Define the Configuration"
   ]
  },
  {
   "cell_type": "code",
   "execution_count": 2,
   "id": "f8b176c0",
   "metadata": {},
   "outputs": [],
   "source": [
    "aws_accesskey = <Your Access Key>\n",
    "aws_secretaccess = <Your secret access key>\n",
    "myregion= <your region>"
   ]
  },
  {
   "cell_type": "code",
   "execution_count": 3,
   "id": "7e76ce70",
   "metadata": {},
   "outputs": [],
   "source": [
    "import boto3"
   ]
  },
  {
   "cell_type": "code",
   "execution_count": 4,
   "id": "04165f94",
   "metadata": {},
   "outputs": [],
   "source": [
    "import logging"
   ]
  },
  {
   "cell_type": "code",
   "execution_count": 5,
   "id": "d76efbac",
   "metadata": {},
   "outputs": [],
   "source": [
    "from botocore.exceptions import ClientError"
   ]
  },
  {
   "cell_type": "code",
   "execution_count": 6,
   "id": "4ef10fd1",
   "metadata": {},
   "outputs": [],
   "source": [
    "import base64"
   ]
  },
  {
   "cell_type": "code",
   "execution_count": 7,
   "id": "9e0b59b9",
   "metadata": {},
   "outputs": [],
   "source": [
    "import json"
   ]
  },
  {
   "cell_type": "code",
   "execution_count": 8,
   "id": "e2080f46",
   "metadata": {},
   "outputs": [],
   "source": [
    "import pprint"
   ]
  },
  {
   "cell_type": "code",
   "execution_count": 9,
   "id": "2c15bc87",
   "metadata": {},
   "outputs": [],
   "source": [
    "import boto3\n",
    "import base64\n",
    "import json\n",
    "import pprint\n",
    "\n",
    "# Initialize S3 and Lambda clients\n",
    "S3_client = boto3.client('s3', aws_access_key_id=aws_accesskey, aws_secret_access_key=aws_secretaccess, region_name=myregion)\n",
    "lambda_client = boto3.client('lambda', aws_access_key_id=aws_accesskey, aws_secret_access_key=aws_secretaccess, region_name=myregion)\n",
    "\n",
    "# Replace with the name of your Lambda function\n",
    "function_name = 'mylambda_function'\n",
    "\n",
    "def analyze_images_local(aws_access, aws_secret, aws_region, img_path):\n",
    "    print(\"Analyzing local image:\")\n",
    "    \n",
    "    with open(img_path, 'rb') as image_file:\n",
    "        image_bytes = image_file.read()\n",
    "        data = base64.b64encode(image_bytes).decode(\"utf8\")\n",
    "        \n",
    "        lambda_payload = {\"image\": data}\n",
    "        \n",
    "        # Invoking the lambda function with the event payload\n",
    "        response = lambda_client.invoke(\n",
    "            FunctionName=function_name,\n",
    "            Payload=json.dumps(lambda_payload))\n",
    "        decoded = json.loads(response['Payload'].read().decode())\n",
    "        pprint.pprint(decoded)"
   ]
  },
  {
   "cell_type": "code",
   "execution_count": 10,
   "id": "fd0f4a9c",
   "metadata": {},
   "outputs": [],
   "source": [
    "# # If you are using a file from the local computer, you need supply the file path\n",
    "image_path = <image file path>"
   ]
  },
  {
   "cell_type": "code",
   "execution_count": 11,
   "id": "b51c75fc",
   "metadata": {},
   "outputs": [
    {
     "name": "stdout",
     "output_type": "stream",
     "text": [
      "Analyzing local image:\n",
      "{'body': '{\"Labels\": [{\"Name\": \"Landscape\", \"Confidence\": 99.9991455078125, '\n",
      "         '\"Instances\": [], \"Parents\": [{\"Name\": \"Nature\"}, {\"Name\": '\n",
      "         '\"Outdoors\"}], \"Aliases\": [], \"Categories\": [{\"Name\": \"Nature and '\n",
      "         'Outdoors\"}]}, {\"Name\": \"Nature\", \"Confidence\": 99.9991455078125, '\n",
      "         '\"Instances\": [], \"Parents\": [{\"Name\": \"Outdoors\"}], \"Aliases\": [], '\n",
      "         '\"Categories\": [{\"Name\": \"Nature and Outdoors\"}]}, {\"Name\": '\n",
      "         '\"Outdoors\", \"Confidence\": 99.9991455078125, \"Instances\": [], '\n",
      "         '\"Parents\": [], \"Aliases\": [], \"Categories\": [{\"Name\": \"Nature and '\n",
      "         'Outdoors\"}]}, {\"Name\": \"Scenery\", \"Confidence\": 99.99686431884766, '\n",
      "         '\"Instances\": [], \"Parents\": [{\"Name\": \"Nature\"}, {\"Name\": '\n",
      "         '\"Outdoors\"}], \"Aliases\": [], \"Categories\": [{\"Name\": \"Nature and '\n",
      "         'Outdoors\"}]}, {\"Name\": \"Sky\", \"Confidence\": 99.98040771484375, '\n",
      "         '\"Instances\": [], \"Parents\": [{\"Name\": \"Nature\"}, {\"Name\": '\n",
      "         '\"Outdoors\"}], \"Aliases\": [], \"Categories\": [{\"Name\": \"Nature and '\n",
      "         'Outdoors\"}]}, {\"Name\": \"Panoramic\", \"Confidence\": 99.84930419921875, '\n",
      "         '\"Instances\": [], \"Parents\": [{\"Name\": \"Landscape\"}, {\"Name\": '\n",
      "         '\"Nature\"}, {\"Name\": \"Outdoors\"}, {\"Name\": \"Scenery\"}], \"Aliases\": '\n",
      "         '[], \"Categories\": [{\"Name\": \"Nature and Outdoors\"}]}, {\"Name\": '\n",
      "         '\"Sunrise\", \"Confidence\": 99.56488037109375, \"Instances\": [], '\n",
      "         '\"Parents\": [{\"Name\": \"Nature\"}, {\"Name\": \"Outdoors\"}, {\"Name\": '\n",
      "         '\"Sky\"}], \"Aliases\": [], \"Categories\": [{\"Name\": \"Nature and '\n",
      "         'Outdoors\"}]}, {\"Name\": \"Ground\", \"Confidence\": 98.84639739990234, '\n",
      "         '\"Instances\": [], \"Parents\": [], \"Aliases\": [], \"Categories\": '\n",
      "         '[{\"Name\": \"Nature and Outdoors\"}]}, {\"Name\": \"Grass\", \"Confidence\": '\n",
      "         '95.12265014648438, \"Instances\": [], \"Parents\": [{\"Name\": \"Plant\"}], '\n",
      "         '\"Aliases\": [], \"Categories\": [{\"Name\": \"Plants and Flowers\"}]}, '\n",
      "         '{\"Name\": \"Plant\", \"Confidence\": 95.12265014648438, \"Instances\": [], '\n",
      "         '\"Parents\": [], \"Aliases\": [], \"Categories\": [{\"Name\": \"Plants and '\n",
      "         'Flowers\"}]}, {\"Name\": \"Horizon\", \"Confidence\": 92.76893615722656, '\n",
      "         '\"Instances\": [], \"Parents\": [{\"Name\": \"Nature\"}, {\"Name\": '\n",
      "         '\"Outdoors\"}, {\"Name\": \"Sky\"}], \"Aliases\": [], \"Categories\": '\n",
      "         '[{\"Name\": \"Nature and Outdoors\"}]}, {\"Name\": \"Vegetation\", '\n",
      "         '\"Confidence\": 87.58686828613281, \"Instances\": [], \"Parents\": '\n",
      "         '[{\"Name\": \"Plant\"}], \"Aliases\": [], \"Categories\": [{\"Name\": \"Nature '\n",
      "         'and Outdoors\"}]}, {\"Name\": \"Countryside\", \"Confidence\": '\n",
      "         '60.91280746459961, \"Instances\": [], \"Parents\": [{\"Name\": \"Nature\"}, '\n",
      "         '{\"Name\": \"Outdoors\"}], \"Aliases\": [], \"Categories\": [{\"Name\": '\n",
      "         '\"Nature and Outdoors\"}]}, {\"Name\": \"Sunlight\", \"Confidence\": '\n",
      "         '57.33642578125, \"Instances\": [], \"Parents\": [], \"Aliases\": [], '\n",
      "         '\"Categories\": [{\"Name\": \"Nature and Outdoors\"}]}, {\"Name\": \"Field\", '\n",
      "         '\"Confidence\": 56.86374282836914, \"Instances\": [], \"Parents\": [], '\n",
      "         '\"Aliases\": [], \"Categories\": [{\"Name\": \"Nature and Outdoors\"}]}, '\n",
      "         '{\"Name\": \"Grassland\", \"Confidence\": 56.86374282836914, \"Instances\": '\n",
      "         '[], \"Parents\": [{\"Name\": \"Field\"}, {\"Name\": \"Nature\"}, {\"Name\": '\n",
      "         '\"Outdoors\"}], \"Aliases\": [], \"Categories\": [{\"Name\": \"Nature and '\n",
      "         'Outdoors\"}]}, {\"Name\": \"Land\", \"Confidence\": 55.9969482421875, '\n",
      "         '\"Instances\": [], \"Parents\": [{\"Name\": \"Nature\"}, {\"Name\": '\n",
      "         '\"Outdoors\"}], \"Aliases\": [], \"Categories\": [{\"Name\": \"Nature and '\n",
      "         'Outdoors\"}]}, {\"Name\": \"Tree\", \"Confidence\": 55.9969482421875, '\n",
      "         '\"Instances\": [], \"Parents\": [{\"Name\": \"Plant\"}], \"Aliases\": [], '\n",
      "         '\"Categories\": [{\"Name\": \"Nature and Outdoors\"}]}, {\"Name\": '\n",
      "         '\"Woodland\", \"Confidence\": 55.9969482421875, \"Instances\": [], '\n",
      "         '\"Parents\": [{\"Name\": \"Land\"}, {\"Name\": \"Nature\"}, {\"Name\": '\n",
      "         '\"Outdoors\"}, {\"Name\": \"Plant\"}, {\"Name\": \"Tree\"}, {\"Name\": '\n",
      "         '\"Vegetation\"}], \"Aliases\": [{\"Name\": \"Forest\"}], \"Categories\": '\n",
      "         '[{\"Name\": \"Nature and Outdoors\"}]}, {\"Name\": \"Sunset\", \"Confidence\": '\n",
      "         '55.68357849121094, \"Instances\": [], \"Parents\": [{\"Name\": \"Nature\"}, '\n",
      "         '{\"Name\": \"Outdoors\"}, {\"Name\": \"Sky\"}], \"Aliases\": [{\"Name\": '\n",
      "         '\"Dusk\"}, {\"Name\": \"Dawn\"}, {\"Name\": \"Red Sky\"}], \"Categories\": '\n",
      "         '[{\"Name\": \"Nature and Outdoors\"}]}], \"LabelModelVersion\": \"3.0\", '\n",
      "         '\"ResponseMetadata\": {\"RequestId\": '\n",
      "         '\"e6b17b82-05e6-4837-ae93-5162c8b61825\", \"HTTPStatusCode\": 200, '\n",
      "         '\"HTTPHeaders\": {\"x-amzn-requestid\": '\n",
      "         '\"e6b17b82-05e6-4837-ae93-5162c8b61825\", \"content-type\": '\n",
      "         '\"application/x-amz-json-1.1\", \"content-length\": \"3478\", \"date\": '\n",
      "         '\"Mon, 11 Mar 2024 08:36:43 GMT\"}, \"RetryAttempts\": 0}}',\n",
      " 'statusCode': 200}\n"
     ]
    }
   ],
   "source": [
    "analyze_images_local(aws_accesskey,aws_secretaccess,myregion,<image file path>)"
   ]
  },
  {
   "cell_type": "code",
   "execution_count": 24,
   "id": "f419807c",
   "metadata": {},
   "outputs": [],
   "source": [
    "S3_client = boto3.client('s3', aws_access_key_id=aws_accesskey, aws_secret_access_key=aws_secretaccess, region_name=myregion)\n",
    "lambda_client = boto3.client('lambda', aws_access_key_id=aws_accesskey, aws_secret_access_key=aws_secretaccess, region_name=myregion)\n",
    "function_name = 'mylambda_function'< Mention your Lambda Function >\n",
    "\n",
    "bucket_name = <Your Bucket Name>\n",
    "object_key = <Your Object Key>\n",
    "\n",
    "def analyze_image_s3(aws_access,aws_secret,aws_region,bucket_name,object_key):\n",
    "    print(\"Analyzing image in S3 bucket:\")\n",
    "    \n",
    "    # Get the image data from S3\n",
    "    response = S3_client.get_object(Bucket=bucket_name, Key=object_key)\n",
    "    image_data = response['Body'].read()\n",
    "    image_data_encoded = base64.b64encode(image_data).decode(\"utf-8\")\n",
    "    \n",
    "    # Create Lambda event payload\n",
    "    event = {\n",
    "        'S3Bucket': bucket_name,\n",
    "        'S3Object': object_key,\n",
    "        'ImageBytes': image_data_encoded\n",
    "    }\n",
    "    \n",
    "    # Invoke the Lambda function with the event payload\n",
    "    response = lambda_client.invoke(\n",
    "        FunctionName=function_name,\n",
    "        InvocationType='RequestResponse',\n",
    "        Payload=json.dumps(event)\n",
    "    )\n",
    "    \n",
    "    decoded = json.loads(response['Payload'].read().decode())\n",
    "    pprint.pprint(decoded)\n"
   ]
  },
  {
   "cell_type": "code",
   "execution_count": 25,
   "id": "d4ffd649",
   "metadata": {},
   "outputs": [
    {
     "name": "stdout",
     "output_type": "stream",
     "text": [
      "Analyzing image in S3 bucket:\n",
      "{'body': {'Error': 'AccessDenied',\n",
      "          'ErrorMessage': \"Couldn't analyze image: Access Denied\"},\n",
      " 'statusCode': 400}\n"
     ]
    }
   ],
   "source": [
    "analyze_image_s3(aws_accesskey,aws_secretaccess,myregion,bucket_name,object_key)"
   ]
  },
  {
   "cell_type": "code",
   "execution_count": null,
   "id": "c08934be",
   "metadata": {},
   "outputs": [],
   "source": []
  }
 ],
 "metadata": {
  "kernelspec": {
   "display_name": "Python 3",
   "language": "python",
   "name": "python3"
  },
  "language_info": {
   "codemirror_mode": {
    "name": "ipython",
    "version": 3
   },
   "file_extension": ".py",
   "mimetype": "text/x-python",
   "name": "python",
   "nbconvert_exporter": "python",
   "pygments_lexer": "ipython3",
   "version": "3.8.8"
  }
 },
 "nbformat": 4,
 "nbformat_minor": 5
}
